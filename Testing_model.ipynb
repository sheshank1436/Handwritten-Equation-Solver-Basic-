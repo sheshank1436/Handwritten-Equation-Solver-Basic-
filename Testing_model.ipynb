{
 "cells": [
  {
   "cell_type": "code",
   "execution_count": 6,
   "metadata": {},
   "outputs": [],
   "source": [
    "from keras.models import model_from_json\n",
    "import cv2\n",
    "import matplotlib.pyplot as plt\n",
    "import numpy as np\n",
    "import warnings\n",
    "warnings.filterwarnings('ignore')"
   ]
  },
  {
   "cell_type": "code",
   "execution_count": 7,
   "metadata": {},
   "outputs": [],
   "source": [
    "def load_the_saved_model(saved_model):\n",
    "    json_file = open('model_final.json', 'r')\n",
    "    loaded_model_json = json_file.read()\n",
    "    json_file.close()\n",
    "    loaded_model = model_from_json(loaded_model_json)\n",
    "    # load weights into new model\n",
    "    loaded_model.load_weights(\"model_final.h5\")\n",
    "    return loaded_model"
   ]
  },
  {
   "cell_type": "code",
   "execution_count": 8,
   "metadata": {},
   "outputs": [],
   "source": [
    "def Making_the_image_ready_for_prediction(image_path):\n",
    "    img = cv2.imread(image_path,cv2.IMREAD_GRAYSCALE)\n",
    "    #kernel = np.ones((3,3),np.uint8)\n",
    "    plt.imshow(img)\n",
    "    if img is not None:\n",
    "        #images.append(img)\n",
    "        img=~img\n",
    "        ret,thresh=cv2.threshold(img,127,255,cv2.THRESH_BINARY)\n",
    "        ctrs,ret=cv2.findContours(thresh,cv2.RETR_TREE,cv2.CHAIN_APPROX_SIMPLE)\n",
    "        cnt=sorted(ctrs, key=lambda ctr: cv2.boundingRect(ctr)[0])\n",
    "        w=int(28)\n",
    "        h=int(28)\n",
    "        train_data=[]\n",
    "        #print(len(cnt))\n",
    "        rects=[]\n",
    "        for c in cnt :\n",
    "            x,y,w,h= cv2.boundingRect(c)\n",
    "            rect=[x,y,w,h]\n",
    "            rects.append(rect)\n",
    "        #print(rects)\n",
    "        bool_rect=[]\n",
    "        for r in rects:\n",
    "            l=[]\n",
    "            for rec in rects:\n",
    "                flag=0\n",
    "                if rec!=r:\n",
    "                    if r[0]<(rec[0]+rec[2]+10) and rec[0]<(r[0]+r[2]+10) and r[1]<(rec[1]+rec[3]+10) and rec[1]<(r[1]+r[3]+10):\n",
    "                        flag=1\n",
    "                    l.append(flag)\n",
    "                if rec==r:\n",
    "                    l.append(0)\n",
    "            bool_rect.append(l)\n",
    "        #print(bool_rect)\n",
    "        dump_rect=[]\n",
    "        for i in range(0,len(cnt)):\n",
    "            for j in range(0,len(cnt)):\n",
    "                if bool_rect[i][j]==1:\n",
    "                    area1=rects[i][2]*rects[i][3]\n",
    "                    area2=rects[j][2]*rects[j][3]\n",
    "                    if(area1==min(area1,area2)):\n",
    "                        dump_rect.append(rects[i])\n",
    "        #print(len(dump_rect)) \n",
    "        final_rect=[i for i in rects if i not in dump_rect]\n",
    "        #print(final_rect)\n",
    "        for r in final_rect:\n",
    "            x=r[0]\n",
    "            y=r[1]\n",
    "            w=r[2]\n",
    "            h=r[3]\n",
    "            im_crop =thresh[y:y+h+10,x:x+w+10]\n",
    "        \n",
    "\n",
    "            im_resize = cv2.resize(im_crop,(28,28))\n",
    "            #cv2.imshow(\"work\",im_resize)\n",
    "            #cv2.waitKey(0)\n",
    "            #cv2.destroyAllWindows()\n",
    "\n",
    "            im_resize=np.reshape(im_resize,(28,28,1))\n",
    "            train_data.append(im_resize)\n",
    "        return train_data\n",
    "     "
   ]
  },
  {
   "cell_type": "code",
   "execution_count": 12,
   "metadata": {},
   "outputs": [],
   "source": [
    "def  predictions(image_path,saved_model):\n",
    "    loaded_model=load_the_saved_model(saved_model)\n",
    "    train_data=Making_the_image_ready_for_prediction(image_path)\n",
    "    s=''\n",
    "    for i in range(len(train_data)):\n",
    "        train_data[i]=np.array(train_data[i])\n",
    "        train_data[i]=train_data[i].reshape(1,28,28,1)\n",
    "        result=loaded_model.predict_classes(train_data[i])\n",
    "        #print(result)\n",
    "        if(result[0]==10):\n",
    "            s=s+'-'\n",
    "        if(result[0]==11):\n",
    "            s=s+'+'\n",
    "        if(result[0]==12):\n",
    "            s=s+'*'\n",
    "        if(result[0]==0):\n",
    "            s=s+'0'\n",
    "        if(result[0]==1):\n",
    "            s=s+'1'\n",
    "        if(result[0]==2):\n",
    "            s=s+'2'\n",
    "        if(result[0]==3):\n",
    "            s=s+'3'\n",
    "        if(result[0]==4):\n",
    "            s=s+'4'\n",
    "        if(result[0]==5):\n",
    "            s=s+'5'\n",
    "        if(result[0]==6):\n",
    "            s=s+'6'\n",
    "        if(result[0]==7):\n",
    "            s=s+'7'\n",
    "        if(result[0]==8):\n",
    "            s=s+'8'\n",
    "        if(result[0]==9):\n",
    "            s=s+'9'\n",
    "        if(result[0]==13):\n",
    "            s=s+'('\n",
    "        if(result[0]==14):\n",
    "            s=s+')'\n",
    "    output=s\n",
    "    print(\"The calculation in the image is\",output,\"The output of the calculation:\",eval(output))\n",
    "    \n",
    "    "
   ]
  },
  {
   "cell_type": "code",
   "execution_count": 15,
   "metadata": {},
   "outputs": [
    {
     "name": "stdout",
     "output_type": "stream",
     "text": [
      "The calculation in the image is 246-(12*5)-3 The output of the calculation: 183\n"
     ]
    },
    {
     "data": {
      "image/png": "[encoded data removed]",
      "text/plain": [
       "<Figure size 432x288 with 1 Axes>"
      ]
     },
     "metadata": {
      "needs_background": "light"
     },
     "output_type": "display_data"
    }
   ],
   "source": [
    "predictions('equ.JPG','model_final.json')"
   ]
  },
  {
   "cell_type": "code",
   "execution_count": null,
   "metadata": {},
   "outputs": [],
   "source": []
  }
 ],
 "metadata": {
  "kernelspec": {
   "display_name": "tfx",
   "language": "python",
   "name": "tfx"
  },
  "language_info": {
   "codemirror_mode": {
    "name": "ipython",
    "version": 3
   },
   "file_extension": ".py",
   "mimetype": "text/x-python",
   "name": "python",
   "nbconvert_exporter": "python",
   "pygments_lexer": "ipython3",
   "version": "3.6.9"
  }
 },
 "nbformat": 4,
 "nbformat_minor": 4
}
